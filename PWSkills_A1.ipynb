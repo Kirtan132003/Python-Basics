{
  "nbformat": 4,
  "nbformat_minor": 0,
  "metadata": {
    "colab": {
      "provenance": []
    },
    "kernelspec": {
      "name": "python3",
      "display_name": "Python 3"
    },
    "language_info": {
      "name": "python"
    }
  },
  "cells": [
    {
      "cell_type": "markdown",
      "source": [
        "# **THEORY QUESTIONS**\n",
        "\n",
        "---\n",
        "Q1. What is Python, and why is it popular?\n",
        "\n",
        "Soln: Python is a High Level Programming Language invented by Guido von Roussev in 1991. Python is popular because of the following reasons:\n",
        "1.   Easy to learn and implement.\n",
        "2.   Highly used.\n",
        "3.   Large Community.\n",
        "4.   Interpreted.\n",
        "5.   Large Library collection.\n",
        "6.   Can be used for multiple purposes like Development, Data Science, Alanysis, Artificial Intellignece, Machine Learning, etc.\n",
        "\n",
        "\n",
        "---\n",
        "Q2. What is an interpreter in Python?\n",
        "\n",
        "Soln: An interpreter in python is a code that is executed line by line. Translation of the code happens one line at a time, unlike compiled languages that converts the entire code into machine language.\n",
        "\n",
        "---\n",
        "Q3. What are pre-defined keywords in Python?\n",
        "\n",
        "Soln: Keywords are reserved words in python that cannot be used as identifiers. There are 36 keywords in Python language.\n",
        "\n",
        "\n",
        "---\n",
        "Q4. Can keywords be used as variable names?\n",
        "\n",
        "Soln: NO, keyowrds cannot be used as variables.\n",
        "\n",
        "---\n",
        "Q5. What is mutability in Python?\n",
        "\n",
        "Soln: Mutability referes to the ability to change the values of objects in Python. Data Types such as List are mutable.\n",
        "\n",
        "---\n",
        "Q6. Why are lists mutable, but tuples are immutable?\n",
        "\n",
        "Soln: Lists are mutable because there are functions to edit them such as insert, pop, delete, etc. Tuples are immutable because we cannot perform such operations on tuples.\n",
        "\n",
        "---\n",
        "Q7.  What is the difference between “==” and “is” operators in Python?\n",
        "\n",
        "Soln: The equality operator compares the values of two objects to see if they are equal. If the values are equal, the condition is true. The identity operator compares if two variables point to the same object in memory. If the variables point to the same object, the condition is true. If not, the condition is false.\n",
        "\n",
        "---\n",
        "Q8.  What are logical operators in Python?\n",
        "\n",
        "Soln: In Python, there are three types of logical operators: and, or, and not. And Operator returns true only when both conditions are true simultaneously. The Or Operator returns True if either of the conditions is met. Not Operator inverts the result, i.e., True changes to False and Vice versa.\n",
        "\n",
        "---\n",
        "Q9.  What is type casting in Python?\n",
        "\n",
        "Soln: Process of conversion of Data Type of a variabe from one Data Type to another is called type casting.\n",
        "\n",
        "---\n",
        "Q10.  What is the difference between implicit and explicit type casting?\n",
        "\n",
        "Soln: Implicit type casting occurs automatically, while we have to manually convert the data type in explicit type casting. Python performs implicit type casting. No data is lost in implicit type casting.\n",
        "\n",
        "---\n",
        "Q11.  What is the purpose of conditional statements in Python?\n",
        "\n",
        "Soln: Conditionl satements are used for the purpose of decision making. They come handy when it comes to developing user interactive programes like games, quizes etc.\n",
        "\n",
        "---\n",
        "Q12. How does the elif statement work?\n",
        "\n",
        "Soln: In Python, elif is short for else if and is used when the first if statement isn't true, but you want to check for another condition. Meaning, if statements pair up with elif and else statements to perform a series of checks.\n",
        "\n",
        "---\n",
        "Q13. What is the difference between for and while loops?\n",
        "\n",
        "Soln: For loop iterates over a sequesnce like list, tuple, etc and while loop iterates till the condition becomes false.\n",
        "\n",
        "---\n",
        "Q14. Describe a scenario where a while loop is more suitable than a for loop.\n",
        "\n",
        "Soln: While loops are commonly used when the number of iterations are not known beforehand.\n",
        "\n",
        "\n",
        "\n",
        "\n",
        "\n",
        "\n"
      ],
      "metadata": {
        "id": "1Gq20V6e8QyY"
      }
    },
    {
      "cell_type": "markdown",
      "source": [
        "# **Practical Questions**"
      ],
      "metadata": {
        "id": "vqqDTrUmfdVF"
      }
    },
    {
      "cell_type": "code",
      "source": [
        "# Q1. Write a Python program to print \"Hello, World!_\n",
        "print(\"Hello, World!\")"
      ],
      "metadata": {
        "colab": {
          "base_uri": "https://localhost:8080/"
        },
        "id": "PkpWxsZFfnQC",
        "outputId": "7111996d-bd39-4540-fc33-812fa3f2afe0"
      },
      "execution_count": 1,
      "outputs": [
        {
          "output_type": "stream",
          "name": "stdout",
          "text": [
            "Hello, World!\n"
          ]
        }
      ]
    },
    {
      "cell_type": "code",
      "source": [
        "# Q2. Write a Python program that displays your name and age\n",
        "name = input(\"Enter your name: \")\n",
        "age = int(input(\"Enter your age: \"))\n",
        "print(\"Name: \", name)\n",
        "print(\"Age: \", age)"
      ],
      "metadata": {
        "colab": {
          "base_uri": "https://localhost:8080/"
        },
        "id": "JDV1a4u0fnad",
        "outputId": "2cdeabc5-ab41-4e82-99d8-c9bf0df08aeb"
      },
      "execution_count": 2,
      "outputs": [
        {
          "output_type": "stream",
          "name": "stdout",
          "text": [
            "Enter your name: Kirtan Gohel\n",
            "Enter your age: 21\n",
            "Name:  Kirtan Gohel\n",
            "Age:  21\n"
          ]
        }
      ]
    },
    {
      "cell_type": "code",
      "source": [
        "# Q3. Write code to print all the pre-defined keywords in Python using the keyword library\n",
        "import keyword\n",
        "all_keywords = list(keyword.kwlist)\n",
        "print(all_keywords)"
      ],
      "metadata": {
        "colab": {
          "base_uri": "https://localhost:8080/"
        },
        "id": "ozvJky08hXew",
        "outputId": "6fee38cb-6374-4ac9-f5c5-52e02efcdde6"
      },
      "execution_count": 8,
      "outputs": [
        {
          "output_type": "stream",
          "name": "stdout",
          "text": [
            "['False', 'None', 'True', 'and', 'as', 'assert', 'async', 'await', 'break', 'class', 'continue', 'def', 'del', 'elif', 'else', 'except', 'finally', 'for', 'from', 'global', 'if', 'import', 'in', 'is', 'lambda', 'nonlocal', 'not', 'or', 'pass', 'raise', 'return', 'try', 'while', 'with', 'yield']\n"
          ]
        }
      ]
    },
    {
      "cell_type": "code",
      "source": [
        "# Q4. Write a program that checks if a given word is a Python keyword\n",
        "import keyword\n",
        "word = input(\"Enter a word: \")\n",
        "if keyword.iskeyword(word):\n",
        "  print(word, \"is a keyword\")\n",
        "else:\n",
        "  print(word, \"is not a keyword\")"
      ],
      "metadata": {
        "colab": {
          "base_uri": "https://localhost:8080/"
        },
        "id": "JinUz-XjiQI6",
        "outputId": "bd1351f7-31c6-4091-ff71-13688b00d04f"
      },
      "execution_count": 9,
      "outputs": [
        {
          "output_type": "stream",
          "name": "stdout",
          "text": [
            "Enter a word: if\n",
            "if is a keyword\n"
          ]
        }
      ]
    },
    {
      "cell_type": "code",
      "source": [
        "# Q5. Create a list and tuple in Python, and demonstrate how attempting to change an element works differently for each\n",
        "# List\n",
        "list = [1,2,3,4,5]\n",
        "tuple = (1,2,3,4,5)\n",
        "\n",
        "#Opeartions\n",
        "list[2]=15\n",
        "print(\"Updated liat: \", list)\n",
        "\n",
        "try:\n",
        "    tuple[2] = 10\n",
        "except TypeError as e:\n",
        "    print(\"Error:\", e)\n",
        "\n",
        "print(\"Unchanged tuple:\", tuple)"
      ],
      "metadata": {
        "colab": {
          "base_uri": "https://localhost:8080/"
        },
        "id": "xBZRV-0diQLs",
        "outputId": "64d5c63e-ba37-4314-eeac-ced0a9d05fbb"
      },
      "execution_count": 11,
      "outputs": [
        {
          "output_type": "stream",
          "name": "stdout",
          "text": [
            "Updated liat:  [1, 2, 15, 4, 5]\n",
            "Error: 'tuple' object does not support item assignment\n",
            "Unchanged tuple: (1, 2, 3, 4, 5)\n"
          ]
        }
      ]
    },
    {
      "cell_type": "code",
      "source": [
        "# Q6 Write a function to demonstrate the behavior of mutable and immutable arguments0\n",
        "\n",
        "def modify_arguments(a_list, a_tuple):\n",
        "    a_list.append(100)\n",
        "    try:\n",
        "        a_tuple += (100,)\n",
        "    except TypeError as e:\n",
        "        print(f\"Error modifying tuple: {e}\")\n",
        "    print(\"Inside function - modified list:\", a_list)\n",
        "    print(\"Inside function - modified tuple:\", a_tuple)\n",
        "\n",
        "original_list = [1, 2, 3]\n",
        "original_tuple = (1, 2, 3)\n",
        "\n",
        "print(\"Before function call - original list:\", original_list)\n",
        "print(\"Before function call - original tuple:\", original_tuple)\n",
        "\n",
        "modify_arguments(original_list, original_tuple)\n",
        "\n",
        "print(\"After function call - original list:\", original_list)\n",
        "print(\"After function call - original tuple:\", original_tuple)\n"
      ],
      "metadata": {
        "colab": {
          "base_uri": "https://localhost:8080/"
        },
        "id": "y1HGa-iGiQOS",
        "outputId": "93d5468e-d90d-4327-ab71-1d12d7eb6637"
      },
      "execution_count": 14,
      "outputs": [
        {
          "output_type": "stream",
          "name": "stdout",
          "text": [
            "Before function call - original list: [1, 2, 3]\n",
            "Before function call - original tuple: (1, 2, 3)\n",
            "Inside function - modified list: [1, 2, 3, 100]\n",
            "Inside function - modified tuple: (1, 2, 3, 100)\n",
            "After function call - original list: [1, 2, 3, 100]\n",
            "After function call - original tuple: (1, 2, 3)\n"
          ]
        }
      ]
    },
    {
      "cell_type": "markdown",
      "source": [
        "Q6 and Q7 are same in the assignment. Above is the solution."
      ],
      "metadata": {
        "id": "xOtUGcMWsZAj"
      }
    },
    {
      "cell_type": "code",
      "source": [
        "#Q8. Write a program to demonstrate the use of logical operators\n",
        "def logical_operators():\n",
        "\n",
        "    a = True\n",
        "    b = False\n",
        "    c = True\n",
        "    d = False\n",
        "\n",
        "    print(\"a and b:\", a and b)\n",
        "    print(\"a and c:\", a and c)\n",
        "\n",
        "    print(\"a or b:\", a or b)\n",
        "    print(\"b or d:\", b or d)\n",
        "\n",
        "    print(\"not a:\", not a)\n",
        "    print(\"not b:\", not b)\n",
        "\n",
        "logical_operators()\n"
      ],
      "metadata": {
        "colab": {
          "base_uri": "https://localhost:8080/"
        },
        "id": "pPisj5HfiQUR",
        "outputId": "74c2a554-b2c9-4687-8f23-528ce90e6bd5"
      },
      "execution_count": 18,
      "outputs": [
        {
          "output_type": "stream",
          "name": "stdout",
          "text": [
            "a and b: False\n",
            "a and c: True\n",
            "a or b: True\n",
            "b or d: False\n",
            "not a: False\n",
            "not b: True\n"
          ]
        }
      ]
    },
    {
      "cell_type": "code",
      "source": [
        "# Write a Python program to convert user input from string to integer, float, and boolean types."
      ],
      "metadata": {
        "id": "Ov7keRtNwAJe"
      },
      "execution_count": 1,
      "outputs": []
    },
    {
      "cell_type": "code",
      "source": [
        "# Write code to demonstrate type casting with list elements"
      ],
      "metadata": {
        "id": "KAelEhmfwALw"
      },
      "execution_count": null,
      "outputs": []
    },
    {
      "cell_type": "code",
      "source": [
        "# Q11. Write a program that checks if a number is positive, negative, or zero\n",
        "num = float(input(\"Enter a number: \"))\n",
        "if num > 0:\n",
        "    print(\"The number is positive.\")\n",
        "elif num < 0:\n",
        "    print(\"The number is negative.\")\n",
        "else:\n",
        "    print(\"The number is zero.\")"
      ],
      "metadata": {
        "colab": {
          "base_uri": "https://localhost:8080/"
        },
        "id": "sFe3CQ0loty5",
        "outputId": "1e9c18a6-e874-4d77-b7c6-28e9a639c0ea"
      },
      "execution_count": 7,
      "outputs": [
        {
          "output_type": "stream",
          "name": "stdout",
          "text": [
            "Enter a number: 0\n",
            "The number is zero.\n"
          ]
        }
      ]
    },
    {
      "cell_type": "code",
      "source": [
        "# Q12. Write a for loop to print numbers from 1 to 10\n",
        "for i in range(1, 11):\n",
        "    print(i, end=\",\")"
      ],
      "metadata": {
        "colab": {
          "base_uri": "https://localhost:8080/"
        },
        "id": "x-GiDzgNwARE",
        "outputId": "6dad7a50-6528-4f07-df30-60598ca0d6dd"
      },
      "execution_count": 8,
      "outputs": [
        {
          "output_type": "stream",
          "name": "stdout",
          "text": [
            "1,2,3,4,5,6,7,8,9,10,"
          ]
        }
      ]
    },
    {
      "cell_type": "code",
      "source": [
        "# Q13. Write a Python program to find the sum of all even numbers between 1 and 50\n",
        "sum = 0\n",
        "for i in range(0,51,2):\n",
        "  sum = sum + i\n",
        "print(sum)"
      ],
      "metadata": {
        "colab": {
          "base_uri": "https://localhost:8080/"
        },
        "id": "CHO_UB_RwATp",
        "outputId": "67d0da83-b903-4996-c108-3a077b7760e6"
      },
      "execution_count": 9,
      "outputs": [
        {
          "output_type": "stream",
          "name": "stdout",
          "text": [
            "650\n"
          ]
        }
      ]
    },
    {
      "cell_type": "code",
      "source": [
        "# Write a program to reverse a string using a while loop0\n",
        "string = \"kirtan\"\n",
        "reversed_string = \"\"\n",
        "length = len(string)\n",
        "while length > 0:\n",
        "    reversed_string += string[length - 1]\n",
        "    length -= 1\n",
        "print(\"Reversed string:\", reversed_string)"
      ],
      "metadata": {
        "colab": {
          "base_uri": "https://localhost:8080/"
        },
        "id": "9EtrzTFewAW8",
        "outputId": "33b8c725-a44e-45ac-9bbd-15f51920fcc6"
      },
      "execution_count": 10,
      "outputs": [
        {
          "output_type": "stream",
          "name": "stdout",
          "text": [
            "Reversed string: natrik\n"
          ]
        }
      ]
    },
    {
      "cell_type": "code",
      "source": [
        "# Write a Python program to calculate the factorial of a number provided by the user using a while loop.\n",
        "num = int(input(\"Enter a number: \"))\n",
        "factorial = 1\n",
        "current = 1\n",
        "while current <= num:\n",
        "    factorial *= current\n",
        "    current += 1\n",
        "print(f\"The factorial of {num} is {factorial}.\")"
      ],
      "metadata": {
        "colab": {
          "base_uri": "https://localhost:8080/"
        },
        "id": "RbKRxgY5qltE",
        "outputId": "cd7d59b3-c441-48cf-d798-ba506d302d59"
      },
      "execution_count": 15,
      "outputs": [
        {
          "output_type": "stream",
          "name": "stdout",
          "text": [
            "Enter a number: 5\n",
            "The factorial of 5 is 120.\n"
          ]
        }
      ]
    },
    {
      "cell_type": "code",
      "source": [],
      "metadata": {
        "id": "nw-tW2Gcq9eL"
      },
      "execution_count": null,
      "outputs": []
    }
  ]
}